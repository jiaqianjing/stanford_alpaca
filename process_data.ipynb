{
 "cells": [
  {
   "cell_type": "markdown",
   "id": "ea3f4ba9-058a-4601-a6f3-028b5c8c71d6",
   "metadata": {},
   "source": [
    "## baidu 翻译 API"
   ]
  },
  {
   "cell_type": "code",
   "execution_count": 5,
   "id": "c34fa846-3827-4b85-a496-9c73ab2a1388",
   "metadata": {},
   "outputs": [],
   "source": [
    "import requests\n",
    "import random\n",
    "import json\n",
    "from hashlib import md5\n",
    "\n",
    "\n",
    "def en2zh(query):\n",
    "    query = query.strip()\n",
    "    if query is None or len(query) == 0:\n",
    "        return \"\"\n",
    "    \n",
    "    # Set your own appid/appkey.\n",
    "    appid = '20220720001277966'\n",
    "    appkey = 'nN9pUmkp8Sm8skkanHMu'\n",
    "\n",
    "    # For list of language codes, please refer to `https://api.fanyi.baidu.com/doc/21`\n",
    "    from_lang = 'en'\n",
    "    to_lang =  'zh'\n",
    "\n",
    "    endpoint = 'http://api.fanyi.baidu.com'\n",
    "    path = '/api/trans/vip/translate'\n",
    "    url = endpoint + path\n",
    "    \n",
    "    # Generate salt and sign\n",
    "    def make_md5(s, encoding='utf-8'):\n",
    "        return md5(s.encode(encoding)).hexdigest()\n",
    "\n",
    "    salt = random.randint(32768, 65536)\n",
    "    sign = make_md5(appid + query + str(salt) + appkey)\n",
    "\n",
    "    # Build request\n",
    "    headers = {'Content-Type': 'application/x-www-form-urlencoded'}\n",
    "    payload = {'appid': appid, 'q': query, 'from': from_lang, 'to': to_lang, 'salt': salt, 'sign': sign}\n",
    "\n",
    "    try:\n",
    "        # Send request\n",
    "        r = requests.post(url, params=payload, headers=headers)\n",
    "        res = r.json()\n",
    "        trans_res = res['trans_result']\n",
    "        temp = []\n",
    "        for tran in trans_res:\n",
    "            temp.append(tran['dst'])\n",
    "        final_res = \"\\n\".join(temp)\n",
    "    except Exception as e:\n",
    "        print(e)\n",
    "        final_res = \"Error Translate\"\n",
    "    return final_res"
   ]
  },
  {
   "cell_type": "code",
   "execution_count": 6,
   "id": "3a1b9893-3c4d-4e6a-91d6-3b75b0945a14",
   "metadata": {},
   "outputs": [
    {
     "name": "stdout",
     "output_type": "stream",
     "text": [
      "'trans_result'\n"
     ]
    }
   ],
   "source": [
    "result = en2zh(\"Rewrite the sentence into more descriptive form:\\nThe food was delicious.\")"
   ]
  },
  {
   "cell_type": "code",
   "execution_count": 7,
   "id": "88632536-e8a9-4eb8-858f-f29ca812837d",
   "metadata": {},
   "outputs": [
    {
     "data": {
      "text/plain": [
       "'Error Translate'"
      ]
     },
     "execution_count": 7,
     "metadata": {},
     "output_type": "execute_result"
    }
   ],
   "source": [
    "result"
   ]
  },
  {
   "cell_type": "markdown",
   "id": "f617bf18-6119-492b-b733-e6f51820af26",
   "metadata": {},
   "source": [
    "## Helsinki-NLP/opus-mt-en-zh\n",
    "英-中翻译模型"
   ]
  },
  {
   "cell_type": "code",
   "execution_count": null,
   "id": "7bc2da75-ba9a-46b2-9e91-cc72153597eb",
   "metadata": {},
   "outputs": [],
   "source": [
    "from transformers import pipeline\n",
    "translator = pipeline(\"translation\", model=\"Helsinki-NLP/opus-mt-en-zh\", device=0)"
   ]
  },
  {
   "cell_type": "code",
   "execution_count": 39,
   "id": "d79efc95-058c-4978-b8b3-b5675cd0357a",
   "metadata": {},
   "outputs": [],
   "source": [
    "import re\n",
    "def en2zh_by_model(query):\n",
    "    query = query.strip()\n",
    "    if not query:\n",
    "        return \"\"\n",
    "    # input 中含有代码片段\n",
    "    if re.search(\"^def.*\", query):\n",
    "        return query\n",
    "    if re.search(\"^Class.*\", query):\n",
    "        return query\n",
    "    # 当一句话中有 \\n 时，需要拆开喂到模型，最后再用 \\n 拼接\n",
    "    q_list = query.split('\\n')\n",
    "    temp = []\n",
    "    for q in q_list:\n",
    "        temp.append(translator(q)[0]['translation_text'])\n",
    "    res = \"\\n\".join(temp)\n",
    "    return res"
   ]
  },
  {
   "cell_type": "code",
   "execution_count": 46,
   "id": "ebee563a-689b-421c-858e-fe3511cbf013",
   "metadata": {},
   "outputs": [
    {
     "data": {
      "text/plain": [
       "'这是一个测试, 7x * 8=y'"
      ]
     },
     "execution_count": 46,
     "metadata": {},
     "output_type": "execute_result"
    }
   ],
   "source": [
    "en2zh_by_model(\"this is a test, 7x * 8 = y\")"
   ]
  },
  {
   "cell_type": "code",
   "execution_count": 41,
   "id": "a292f3b6-e347-4c91-b23c-2c7443eedc21",
   "metadata": {},
   "outputs": [],
   "source": [
    "import pandas as pd\n",
    "raw_data = pd.read_json('./alpaca_data.json')"
   ]
  },
  {
   "cell_type": "code",
   "execution_count": 11,
   "id": "2cde5d3f-060e-43b1-9bcc-b0bad23a3087",
   "metadata": {},
   "outputs": [
    {
     "data": {
      "text/html": [
       "<div>\n",
       "<style scoped>\n",
       "    .dataframe tbody tr th:only-of-type {\n",
       "        vertical-align: middle;\n",
       "    }\n",
       "\n",
       "    .dataframe tbody tr th {\n",
       "        vertical-align: top;\n",
       "    }\n",
       "\n",
       "    .dataframe thead th {\n",
       "        text-align: right;\n",
       "    }\n",
       "</style>\n",
       "<table border=\"1\" class=\"dataframe\">\n",
       "  <thead>\n",
       "    <tr style=\"text-align: right;\">\n",
       "      <th></th>\n",
       "      <th>instruction</th>\n",
       "      <th>input</th>\n",
       "      <th>output</th>\n",
       "    </tr>\n",
       "  </thead>\n",
       "  <tbody>\n",
       "    <tr>\n",
       "      <th>0</th>\n",
       "      <td>Give three tips for staying healthy.</td>\n",
       "      <td></td>\n",
       "      <td>1.Eat a balanced diet and make sure to include...</td>\n",
       "    </tr>\n",
       "    <tr>\n",
       "      <th>1</th>\n",
       "      <td>What are the three primary colors?</td>\n",
       "      <td></td>\n",
       "      <td>The three primary colors are red, blue, and ye...</td>\n",
       "    </tr>\n",
       "    <tr>\n",
       "      <th>2</th>\n",
       "      <td>Describe the structure of an atom.</td>\n",
       "      <td></td>\n",
       "      <td>An atom is made up of a nucleus, which contain...</td>\n",
       "    </tr>\n",
       "    <tr>\n",
       "      <th>3</th>\n",
       "      <td>How can we reduce air pollution?</td>\n",
       "      <td></td>\n",
       "      <td>There are a number of ways to reduce air pollu...</td>\n",
       "    </tr>\n",
       "    <tr>\n",
       "      <th>4</th>\n",
       "      <td>Describe a time when you had to make a difficu...</td>\n",
       "      <td></td>\n",
       "      <td>I had to make a difficult decision when I was ...</td>\n",
       "    </tr>\n",
       "    <tr>\n",
       "      <th>...</th>\n",
       "      <td>...</td>\n",
       "      <td>...</td>\n",
       "      <td>...</td>\n",
       "    </tr>\n",
       "    <tr>\n",
       "      <th>51997</th>\n",
       "      <td>Generate an example of what a resume should li...</td>\n",
       "      <td></td>\n",
       "      <td>Jean Tremaine\\n1234 Main Street, Anytown, CA 9...</td>\n",
       "    </tr>\n",
       "    <tr>\n",
       "      <th>51998</th>\n",
       "      <td>Arrange the items given below in the order to ...</td>\n",
       "      <td>cake, me, eating</td>\n",
       "      <td>I eating cake.</td>\n",
       "    </tr>\n",
       "    <tr>\n",
       "      <th>51999</th>\n",
       "      <td>Write an introductory paragraph about a famous...</td>\n",
       "      <td>Michelle Obama</td>\n",
       "      <td>Michelle Obama is an inspirational woman who r...</td>\n",
       "    </tr>\n",
       "    <tr>\n",
       "      <th>52000</th>\n",
       "      <td>Generate a list of five things one should keep...</td>\n",
       "      <td></td>\n",
       "      <td>1. Research potential opportunities and carefu...</td>\n",
       "    </tr>\n",
       "    <tr>\n",
       "      <th>52001</th>\n",
       "      <td>Analyze the given legal document and explain t...</td>\n",
       "      <td>The following is an excerpt from a contract be...</td>\n",
       "      <td>This legal document states that Company A has ...</td>\n",
       "    </tr>\n",
       "  </tbody>\n",
       "</table>\n",
       "<p>52002 rows × 3 columns</p>\n",
       "</div>"
      ],
      "text/plain": [
       "                                             instruction  \\\n",
       "0                   Give three tips for staying healthy.   \n",
       "1                     What are the three primary colors?   \n",
       "2                     Describe the structure of an atom.   \n",
       "3                       How can we reduce air pollution?   \n",
       "4      Describe a time when you had to make a difficu...   \n",
       "...                                                  ...   \n",
       "51997  Generate an example of what a resume should li...   \n",
       "51998  Arrange the items given below in the order to ...   \n",
       "51999  Write an introductory paragraph about a famous...   \n",
       "52000  Generate a list of five things one should keep...   \n",
       "52001  Analyze the given legal document and explain t...   \n",
       "\n",
       "                                                   input  \\\n",
       "0                                                          \n",
       "1                                                          \n",
       "2                                                          \n",
       "3                                                          \n",
       "4                                                          \n",
       "...                                                  ...   \n",
       "51997                                                      \n",
       "51998                                   cake, me, eating   \n",
       "51999                                     Michelle Obama   \n",
       "52000                                                      \n",
       "52001  The following is an excerpt from a contract be...   \n",
       "\n",
       "                                                  output  \n",
       "0      1.Eat a balanced diet and make sure to include...  \n",
       "1      The three primary colors are red, blue, and ye...  \n",
       "2      An atom is made up of a nucleus, which contain...  \n",
       "3      There are a number of ways to reduce air pollu...  \n",
       "4      I had to make a difficult decision when I was ...  \n",
       "...                                                  ...  \n",
       "51997  Jean Tremaine\\n1234 Main Street, Anytown, CA 9...  \n",
       "51998                                     I eating cake.  \n",
       "51999  Michelle Obama is an inspirational woman who r...  \n",
       "52000  1. Research potential opportunities and carefu...  \n",
       "52001  This legal document states that Company A has ...  \n",
       "\n",
       "[52002 rows x 3 columns]"
      ]
     },
     "execution_count": 11,
     "metadata": {},
     "output_type": "execute_result"
    }
   ],
   "source": [
    "raw_data"
   ]
  },
  {
   "cell_type": "code",
   "execution_count": 44,
   "id": "5326cb7e-e681-4637-af49-d3181b45119d",
   "metadata": {},
   "outputs": [
    {
     "name": "stderr",
     "output_type": "stream",
     "text": [
      "translate: 100%|██████████| 52002/52002 [3:40:10<00:00,  3.94it/s]   \n"
     ]
    }
   ],
   "source": [
    "from tqdm import tqdm\n",
    "tqdm.pandas(desc='translate')\n",
    "temp = raw_data.instruction.progress_map(lambda x: en2zh_by_model(x))"
   ]
  },
  {
   "cell_type": "code",
   "execution_count": 122,
   "id": "9f8827dc-2257-4591-a720-ad1cdae4da10",
   "metadata": {},
   "outputs": [],
   "source": [
    "#zh_data.to_json('./temp/zh_alpaca_data.json', orient=\"records\", force_ascii=False)"
   ]
  },
  {
   "cell_type": "code",
   "execution_count": 48,
   "id": "d0bee003-bac2-477a-9650-48ba78b28d42",
   "metadata": {},
   "outputs": [],
   "source": [
    "raw_data['zh_instruction'] = temp"
   ]
  },
  {
   "cell_type": "code",
   "execution_count": 49,
   "id": "835b7d18-383c-4d2f-9116-c049ddfbb363",
   "metadata": {},
   "outputs": [
    {
     "data": {
      "text/html": [
       "<div>\n",
       "<style scoped>\n",
       "    .dataframe tbody tr th:only-of-type {\n",
       "        vertical-align: middle;\n",
       "    }\n",
       "\n",
       "    .dataframe tbody tr th {\n",
       "        vertical-align: top;\n",
       "    }\n",
       "\n",
       "    .dataframe thead th {\n",
       "        text-align: right;\n",
       "    }\n",
       "</style>\n",
       "<table border=\"1\" class=\"dataframe\">\n",
       "  <thead>\n",
       "    <tr style=\"text-align: right;\">\n",
       "      <th></th>\n",
       "      <th>instruction</th>\n",
       "      <th>input</th>\n",
       "      <th>output</th>\n",
       "      <th>zh_instruction</th>\n",
       "    </tr>\n",
       "  </thead>\n",
       "  <tbody>\n",
       "    <tr>\n",
       "      <th>0</th>\n",
       "      <td>Give three tips for staying healthy.</td>\n",
       "      <td></td>\n",
       "      <td>1.Eat a balanced diet and make sure to include...</td>\n",
       "      <td>给三个忠告 保持健康。</td>\n",
       "    </tr>\n",
       "    <tr>\n",
       "      <th>1</th>\n",
       "      <td>What are the three primary colors?</td>\n",
       "      <td></td>\n",
       "      <td>The three primary colors are red, blue, and ye...</td>\n",
       "      <td>三种主要颜色是什么?</td>\n",
       "    </tr>\n",
       "    <tr>\n",
       "      <th>2</th>\n",
       "      <td>Describe the structure of an atom.</td>\n",
       "      <td></td>\n",
       "      <td>An atom is made up of a nucleus, which contain...</td>\n",
       "      <td>描述原子的结构。</td>\n",
       "    </tr>\n",
       "    <tr>\n",
       "      <th>3</th>\n",
       "      <td>How can we reduce air pollution?</td>\n",
       "      <td></td>\n",
       "      <td>There are a number of ways to reduce air pollu...</td>\n",
       "      <td>我们如何减少空气污染?</td>\n",
       "    </tr>\n",
       "    <tr>\n",
       "      <th>4</th>\n",
       "      <td>Describe a time when you had to make a difficu...</td>\n",
       "      <td></td>\n",
       "      <td>I had to make a difficult decision when I was ...</td>\n",
       "      <td>描述你不得不作出困难决定的时间。</td>\n",
       "    </tr>\n",
       "    <tr>\n",
       "      <th>...</th>\n",
       "      <td>...</td>\n",
       "      <td>...</td>\n",
       "      <td>...</td>\n",
       "      <td>...</td>\n",
       "    </tr>\n",
       "    <tr>\n",
       "      <th>51997</th>\n",
       "      <td>Generate an example of what a resume should li...</td>\n",
       "      <td></td>\n",
       "      <td>Jean Tremaine\\n1234 Main Street, Anytown, CA 9...</td>\n",
       "      <td>生成一个实例, 说明烹饪专业的 履历会想要什么 。</td>\n",
       "    </tr>\n",
       "    <tr>\n",
       "      <th>51998</th>\n",
       "      <td>Arrange the items given below in the order to ...</td>\n",
       "      <td>cake, me, eating</td>\n",
       "      <td>I eating cake.</td>\n",
       "      <td>将下列项目排列如下,以完成以下句子:</td>\n",
       "    </tr>\n",
       "    <tr>\n",
       "      <th>51999</th>\n",
       "      <td>Write an introductory paragraph about a famous...</td>\n",
       "      <td>Michelle Obama</td>\n",
       "      <td>Michelle Obama is an inspirational woman who r...</td>\n",
       "      <td>写一段关于名人的介绍性段落。</td>\n",
       "    </tr>\n",
       "    <tr>\n",
       "      <th>52000</th>\n",
       "      <td>Generate a list of five things one should keep...</td>\n",
       "      <td></td>\n",
       "      <td>1. Research potential opportunities and carefu...</td>\n",
       "      <td>在考虑职业变化时,要提出一份五件事的清单。</td>\n",
       "    </tr>\n",
       "    <tr>\n",
       "      <th>52001</th>\n",
       "      <td>Analyze the given legal document and explain t...</td>\n",
       "      <td>The following is an excerpt from a contract be...</td>\n",
       "      <td>This legal document states that Company A has ...</td>\n",
       "      <td>分析给定的法律文件并解释要点。</td>\n",
       "    </tr>\n",
       "  </tbody>\n",
       "</table>\n",
       "<p>52002 rows × 4 columns</p>\n",
       "</div>"
      ],
      "text/plain": [
       "                                             instruction  \\\n",
       "0                   Give three tips for staying healthy.   \n",
       "1                     What are the three primary colors?   \n",
       "2                     Describe the structure of an atom.   \n",
       "3                       How can we reduce air pollution?   \n",
       "4      Describe a time when you had to make a difficu...   \n",
       "...                                                  ...   \n",
       "51997  Generate an example of what a resume should li...   \n",
       "51998  Arrange the items given below in the order to ...   \n",
       "51999  Write an introductory paragraph about a famous...   \n",
       "52000  Generate a list of five things one should keep...   \n",
       "52001  Analyze the given legal document and explain t...   \n",
       "\n",
       "                                                   input  \\\n",
       "0                                                          \n",
       "1                                                          \n",
       "2                                                          \n",
       "3                                                          \n",
       "4                                                          \n",
       "...                                                  ...   \n",
       "51997                                                      \n",
       "51998                                   cake, me, eating   \n",
       "51999                                     Michelle Obama   \n",
       "52000                                                      \n",
       "52001  The following is an excerpt from a contract be...   \n",
       "\n",
       "                                                  output  \\\n",
       "0      1.Eat a balanced diet and make sure to include...   \n",
       "1      The three primary colors are red, blue, and ye...   \n",
       "2      An atom is made up of a nucleus, which contain...   \n",
       "3      There are a number of ways to reduce air pollu...   \n",
       "4      I had to make a difficult decision when I was ...   \n",
       "...                                                  ...   \n",
       "51997  Jean Tremaine\\n1234 Main Street, Anytown, CA 9...   \n",
       "51998                                     I eating cake.   \n",
       "51999  Michelle Obama is an inspirational woman who r...   \n",
       "52000  1. Research potential opportunities and carefu...   \n",
       "52001  This legal document states that Company A has ...   \n",
       "\n",
       "                  zh_instruction  \n",
       "0                    给三个忠告 保持健康。  \n",
       "1                     三种主要颜色是什么?  \n",
       "2                       描述原子的结构。  \n",
       "3                    我们如何减少空气污染?  \n",
       "4               描述你不得不作出困难决定的时间。  \n",
       "...                          ...  \n",
       "51997  生成一个实例, 说明烹饪专业的 履历会想要什么 。  \n",
       "51998         将下列项目排列如下,以完成以下句子:  \n",
       "51999             写一段关于名人的介绍性段落。  \n",
       "52000      在考虑职业变化时,要提出一份五件事的清单。  \n",
       "52001            分析给定的法律文件并解释要点。  \n",
       "\n",
       "[52002 rows x 4 columns]"
      ]
     },
     "execution_count": 49,
     "metadata": {},
     "output_type": "execute_result"
    }
   ],
   "source": [
    "raw_data"
   ]
  },
  {
   "cell_type": "code",
   "execution_count": null,
   "id": "cb224ff0-cc26-4ccd-884f-e9540d10c529",
   "metadata": {},
   "outputs": [],
   "source": []
  }
 ],
 "metadata": {
  "kernelspec": {
   "display_name": "python3.10",
   "language": "python",
   "name": "python3.10"
  },
  "language_info": {
   "codemirror_mode": {
    "name": "ipython",
    "version": 3
   },
   "file_extension": ".py",
   "mimetype": "text/x-python",
   "name": "python",
   "nbconvert_exporter": "python",
   "pygments_lexer": "ipython3",
   "version": "3.10.9"
  }
 },
 "nbformat": 4,
 "nbformat_minor": 5
}
