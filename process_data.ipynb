{
 "cells": [
  {
   "cell_type": "markdown",
   "id": "ea3f4ba9-058a-4601-a6f3-028b5c8c71d6",
   "metadata": {},
   "source": [
    "## baidu 翻译 API"
   ]
  },
  {
   "cell_type": "code",
   "execution_count": 5,
   "id": "c34fa846-3827-4b85-a496-9c73ab2a1388",
   "metadata": {},
   "outputs": [],
   "source": [
    "import requests\n",
    "import random\n",
    "import json\n",
    "from hashlib import md5\n",
    "\n",
    "\n",
    "def en2zh(query):\n",
    "    query = query.strip()\n",
    "    if query is None or len(query) == 0:\n",
    "        return \"\"\n",
    "    \n",
    "    # Set your own appid/appkey.\n",
    "    appid = '20220720001277966'\n",
    "    appkey = 'nN9pUmkp8Sm8skkanHMu'\n",
    "\n",
    "    # For list of language codes, please refer to `https://api.fanyi.baidu.com/doc/21`\n",
    "    from_lang = 'en'\n",
    "    to_lang =  'zh'\n",
    "\n",
    "    endpoint = 'http://api.fanyi.baidu.com'\n",
    "    path = '/api/trans/vip/translate'\n",
    "    url = endpoint + path\n",
    "    \n",
    "    # Generate salt and sign\n",
    "    def make_md5(s, encoding='utf-8'):\n",
    "        return md5(s.encode(encoding)).hexdigest()\n",
    "\n",
    "    salt = random.randint(32768, 65536)\n",
    "    sign = make_md5(appid + query + str(salt) + appkey)\n",
    "\n",
    "    # Build request\n",
    "    headers = {'Content-Type': 'application/x-www-form-urlencoded'}\n",
    "    payload = {'appid': appid, 'q': query, 'from': from_lang, 'to': to_lang, 'salt': salt, 'sign': sign}\n",
    "\n",
    "    try:\n",
    "        # Send request\n",
    "        r = requests.post(url, params=payload, headers=headers)\n",
    "        res = r.json()\n",
    "        trans_res = res['trans_result']\n",
    "        temp = []\n",
    "        for tran in trans_res:\n",
    "            temp.append(tran['dst'])\n",
    "        final_res = \"\\n\".join(temp)\n",
    "    except Exception as e:\n",
    "        print(e)\n",
    "        final_res = \"Error Translate\"\n",
    "    return final_res"
   ]
  },
  {
   "cell_type": "code",
   "execution_count": 6,
   "id": "3a1b9893-3c4d-4e6a-91d6-3b75b0945a14",
   "metadata": {},
   "outputs": [
    {
     "name": "stdout",
     "output_type": "stream",
     "text": [
      "'trans_result'\n"
     ]
    }
   ],
   "source": [
    "result = en2zh(\"Rewrite the sentence into more descriptive form:\\nThe food was delicious.\")"
   ]
  },
  {
   "cell_type": "code",
   "execution_count": 7,
   "id": "88632536-e8a9-4eb8-858f-f29ca812837d",
   "metadata": {},
   "outputs": [
    {
     "data": {
      "text/plain": [
       "'Error Translate'"
      ]
     },
     "execution_count": 7,
     "metadata": {},
     "output_type": "execute_result"
    }
   ],
   "source": [
    "result"
   ]
  },
  {
   "cell_type": "markdown",
   "id": "f617bf18-6119-492b-b733-e6f51820af26",
   "metadata": {},
   "source": [
    "## Helsinki-NLP/opus-mt-en-zh\n",
    "英-中翻译模型"
   ]
  },
  {
   "cell_type": "code",
   "execution_count": 1,
   "id": "7bc2da75-ba9a-46b2-9e91-cc72153597eb",
   "metadata": {
    "tags": []
   },
   "outputs": [
    {
     "name": "stderr",
     "output_type": "stream",
     "text": [
      "/opt/conda/lib/python3.7/site-packages/transformers/models/marian/tokenization_marian.py:194: UserWarning: Recommended: pip install sacremoses.\n",
      "  warnings.warn(\"Recommended: pip install sacremoses.\")\n"
     ]
    }
   ],
   "source": [
    "from transformers import pipeline\n",
    "translator = pipeline(\"translation\", model=\"Helsinki-NLP/opus-mt-en-zh\", device=0)"
   ]
  },
  {
   "cell_type": "code",
   "execution_count": 5,
   "id": "d79efc95-058c-4978-b8b3-b5675cd0357a",
   "metadata": {
    "tags": []
   },
   "outputs": [],
   "source": [
    "import re\n",
    "def en2zh_by_model(query):\n",
    "    query = query.strip()\n",
    "    if len(query) >= 350:\n",
    "        return query\n",
    "    if not query:\n",
    "        return \"\"\n",
    "    # input 中含有代码片段\n",
    "    if re.search(\"^def.*\", query):\n",
    "        return query\n",
    "    if re.search(\"^Class.*\", query):\n",
    "        return query\n",
    "    # 当一句话中有 \\n 时，需要拆开喂到模型，最后再用 \\n 拼接\n",
    "    q_list = query.split('\\n')\n",
    "    temp = []\n",
    "    for q in q_list:\n",
    "        temp.append(translator(q)[0]['translation_text'])\n",
    "    res = \"\\n\".join(temp)\n",
    "    return res"
   ]
  },
  {
   "cell_type": "code",
   "execution_count": 6,
   "id": "ebee563a-689b-421c-858e-fe3511cbf013",
   "metadata": {
    "tags": []
   },
   "outputs": [
    {
     "data": {
      "text/plain": [
       "'这是一个测试, 7x * 8=y'"
      ]
     },
     "execution_count": 6,
     "metadata": {},
     "output_type": "execute_result"
    }
   ],
   "source": [
    "en2zh_by_model(\"this is a test, 7x * 8 = y\")"
   ]
  },
  {
   "cell_type": "code",
   "execution_count": 7,
   "id": "a292f3b6-e347-4c91-b23c-2c7443eedc21",
   "metadata": {
    "tags": []
   },
   "outputs": [],
   "source": [
    "import pandas as pd\n",
    "raw_data = pd.read_json('./alpaca_data.json')"
   ]
  },
  {
   "cell_type": "code",
   "execution_count": 8,
   "id": "2cde5d3f-060e-43b1-9bcc-b0bad23a3087",
   "metadata": {
    "tags": []
   },
   "outputs": [
    {
     "data": {
      "text/html": [
       "<div>\n",
       "<style scoped>\n",
       "    .dataframe tbody tr th:only-of-type {\n",
       "        vertical-align: middle;\n",
       "    }\n",
       "\n",
       "    .dataframe tbody tr th {\n",
       "        vertical-align: top;\n",
       "    }\n",
       "\n",
       "    .dataframe thead th {\n",
       "        text-align: right;\n",
       "    }\n",
       "</style>\n",
       "<table border=\"1\" class=\"dataframe\">\n",
       "  <thead>\n",
       "    <tr style=\"text-align: right;\">\n",
       "      <th></th>\n",
       "      <th>instruction</th>\n",
       "      <th>input</th>\n",
       "      <th>output</th>\n",
       "    </tr>\n",
       "  </thead>\n",
       "  <tbody>\n",
       "    <tr>\n",
       "      <th>0</th>\n",
       "      <td>Give three tips for staying healthy.</td>\n",
       "      <td></td>\n",
       "      <td>1.Eat a balanced diet and make sure to include...</td>\n",
       "    </tr>\n",
       "    <tr>\n",
       "      <th>1</th>\n",
       "      <td>What are the three primary colors?</td>\n",
       "      <td></td>\n",
       "      <td>The three primary colors are red, blue, and ye...</td>\n",
       "    </tr>\n",
       "    <tr>\n",
       "      <th>2</th>\n",
       "      <td>Describe the structure of an atom.</td>\n",
       "      <td></td>\n",
       "      <td>An atom is made up of a nucleus, which contain...</td>\n",
       "    </tr>\n",
       "    <tr>\n",
       "      <th>3</th>\n",
       "      <td>How can we reduce air pollution?</td>\n",
       "      <td></td>\n",
       "      <td>There are a number of ways to reduce air pollu...</td>\n",
       "    </tr>\n",
       "    <tr>\n",
       "      <th>4</th>\n",
       "      <td>Describe a time when you had to make a difficu...</td>\n",
       "      <td></td>\n",
       "      <td>I had to make a difficult decision when I was ...</td>\n",
       "    </tr>\n",
       "    <tr>\n",
       "      <th>...</th>\n",
       "      <td>...</td>\n",
       "      <td>...</td>\n",
       "      <td>...</td>\n",
       "    </tr>\n",
       "    <tr>\n",
       "      <th>51997</th>\n",
       "      <td>Generate an example of what a resume should li...</td>\n",
       "      <td></td>\n",
       "      <td>Jean Tremaine\\n1234 Main Street, Anytown, CA 9...</td>\n",
       "    </tr>\n",
       "    <tr>\n",
       "      <th>51998</th>\n",
       "      <td>Arrange the items given below in the order to ...</td>\n",
       "      <td>cake, me, eating</td>\n",
       "      <td>I eating cake.</td>\n",
       "    </tr>\n",
       "    <tr>\n",
       "      <th>51999</th>\n",
       "      <td>Write an introductory paragraph about a famous...</td>\n",
       "      <td>Michelle Obama</td>\n",
       "      <td>Michelle Obama is an inspirational woman who r...</td>\n",
       "    </tr>\n",
       "    <tr>\n",
       "      <th>52000</th>\n",
       "      <td>Generate a list of five things one should keep...</td>\n",
       "      <td></td>\n",
       "      <td>1. Research potential opportunities and carefu...</td>\n",
       "    </tr>\n",
       "    <tr>\n",
       "      <th>52001</th>\n",
       "      <td>Analyze the given legal document and explain t...</td>\n",
       "      <td>The following is an excerpt from a contract be...</td>\n",
       "      <td>This legal document states that Company A has ...</td>\n",
       "    </tr>\n",
       "  </tbody>\n",
       "</table>\n",
       "<p>52002 rows × 3 columns</p>\n",
       "</div>"
      ],
      "text/plain": [
       "                                             instruction  \\\n",
       "0                   Give three tips for staying healthy.   \n",
       "1                     What are the three primary colors?   \n",
       "2                     Describe the structure of an atom.   \n",
       "3                       How can we reduce air pollution?   \n",
       "4      Describe a time when you had to make a difficu...   \n",
       "...                                                  ...   \n",
       "51997  Generate an example of what a resume should li...   \n",
       "51998  Arrange the items given below in the order to ...   \n",
       "51999  Write an introductory paragraph about a famous...   \n",
       "52000  Generate a list of five things one should keep...   \n",
       "52001  Analyze the given legal document and explain t...   \n",
       "\n",
       "                                                   input  \\\n",
       "0                                                          \n",
       "1                                                          \n",
       "2                                                          \n",
       "3                                                          \n",
       "4                                                          \n",
       "...                                                  ...   \n",
       "51997                                                      \n",
       "51998                                   cake, me, eating   \n",
       "51999                                     Michelle Obama   \n",
       "52000                                                      \n",
       "52001  The following is an excerpt from a contract be...   \n",
       "\n",
       "                                                  output  \n",
       "0      1.Eat a balanced diet and make sure to include...  \n",
       "1      The three primary colors are red, blue, and ye...  \n",
       "2      An atom is made up of a nucleus, which contain...  \n",
       "3      There are a number of ways to reduce air pollu...  \n",
       "4      I had to make a difficult decision when I was ...  \n",
       "...                                                  ...  \n",
       "51997  Jean Tremaine\\n1234 Main Street, Anytown, CA 9...  \n",
       "51998                                     I eating cake.  \n",
       "51999  Michelle Obama is an inspirational woman who r...  \n",
       "52000  1. Research potential opportunities and carefu...  \n",
       "52001  This legal document states that Company A has ...  \n",
       "\n",
       "[52002 rows x 3 columns]"
      ]
     },
     "execution_count": 8,
     "metadata": {},
     "output_type": "execute_result"
    }
   ],
   "source": [
    "raw_data"
   ]
  },
  {
   "cell_type": "code",
   "execution_count": 5,
   "id": "5326cb7e-e681-4637-af49-d3181b45119d",
   "metadata": {
    "tags": []
   },
   "outputs": [
    {
     "name": "stderr",
     "output_type": "stream",
     "text": [
      "translate:   0%|          | 10/52002 [00:00<1:33:36,  9.26it/s]/opt/conda/lib/python3.7/site-packages/transformers/pipelines/base.py:1048: UserWarning: You seem to be using the pipelines sequentially on GPU. In order to maximize efficiency please use a dataset\n",
      "  UserWarning,\n",
      "translate: 100%|██████████| 52002/52002 [1:51:17<00:00,  7.79it/s]  \n"
     ]
    }
   ],
   "source": [
    "from tqdm import tqdm\n",
    "tqdm.pandas(desc='translate')\n",
    "temp = raw_data.instruction.progress_map(lambda x: en2zh_by_model(x))"
   ]
  },
  {
   "cell_type": "code",
   "execution_count": 122,
   "id": "9f8827dc-2257-4591-a720-ad1cdae4da10",
   "metadata": {},
   "outputs": [],
   "source": [
    "temp.to_json('./temp/zh_instruction.json', orient='records', force_ascii=False)"
   ]
  },
  {
   "cell_type": "code",
   "execution_count": 10,
   "id": "cb224ff0-cc26-4ccd-884f-e9540d10c529",
   "metadata": {
    "scrolled": true,
    "tags": []
   },
   "outputs": [
    {
     "name": "stderr",
     "output_type": "stream",
     "text": [
      "translate:   0%|          | 37/52002 [00:00<17:28, 49.56it/s]/opt/conda/lib/python3.7/site-packages/transformers/pipelines/base.py:1048: UserWarning: You seem to be using the pipelines sequentially on GPU. In order to maximize efficiency please use a dataset\n",
      "  UserWarning,\n",
      "translate: 100%|██████████| 52002/52002 [59:53<00:00, 14.47it/s]  \n"
     ]
    }
   ],
   "source": [
    "from tqdm import tqdm\n",
    "tqdm.pandas(desc='translate')\n",
    "temp = raw_data.input.progress_map(lambda x: en2zh_by_model(x))\n",
    "temp.to_json('./temp/zh_input.json', orient='records', force_ascii=False)"
   ]
  },
  {
   "cell_type": "code",
   "execution_count": null,
   "id": "67d3aa9c-db47-4efb-9b50-bbad57054c42",
   "metadata": {
    "tags": []
   },
   "outputs": [
    {
     "name": "stderr",
     "output_type": "stream",
     "text": [
      "translate:   0%|          | 0/52002 [00:00<?, ?it/s]/opt/conda/lib/python3.7/site-packages/transformers/pipelines/base.py:1048: UserWarning: You seem to be using the pipelines sequentially on GPU. In order to maximize efficiency please use a dataset\n",
      "  UserWarning,\n",
      "translate:  31%|███       | 16110/52002 [53:16<2:15:15,  4.42it/s] "
     ]
    }
   ],
   "source": [
    "from tqdm import tqdm\n",
    "tqdm.pandas(desc='translate')\n",
    "temp = raw_data.output.progress_map(lambda x: en2zh_by_model(x))\n",
    "temp.to_json('./temp/zh_output.json', orient='records', force_ascii=False)"
   ]
  },
  {
   "cell_type": "markdown",
   "id": "e81101a9-da13-4f51-96d2-c3d7bb63ab7b",
   "metadata": {},
   "source": [
    "# Merge multi files"
   ]
  },
  {
   "cell_type": "code",
   "execution_count": 13,
   "id": "17700db6-3677-4b0a-ba82-64a1e8d778ea",
   "metadata": {
    "tags": []
   },
   "outputs": [],
   "source": [
    "from pathlib import Path\n",
    "import pandas as pd"
   ]
  },
  {
   "cell_type": "code",
   "execution_count": 23,
   "id": "4835c613-7df2-4bc9-9c10-2572af1f3fd5",
   "metadata": {
    "tags": []
   },
   "outputs": [
    {
     "name": "stdout",
     "output_type": "stream",
     "text": [
      "zh_input\n",
      "zh_instruction\n",
      "zh_output\n"
     ]
    }
   ],
   "source": [
    "data_root = Path('./temp')\n",
    "for i in data_root.glob('*.json'):\n",
    "    print(i.stem)"
   ]
  },
  {
   "cell_type": "code",
   "execution_count": 46,
   "id": "328b2b4c-fbe8-40ba-b719-62ca0581a0b9",
   "metadata": {
    "tags": []
   },
   "outputs": [
    {
     "name": "stdout",
     "output_type": "stream",
     "text": [
      "current file: temp/zh_input.json, stem: zh_input\n",
      "current file: temp/zh_instruction.json, stem: zh_instruction\n",
      "current file: temp/zh_output.json, stem: zh_output\n"
     ]
    }
   ],
   "source": [
    "merged_df = pd.DataFrame()\n",
    "for i in data_root.glob('*.json'):\n",
    "    print(f\"current file: {i}, stem: {i.stem}\")\n",
    "    temp = pd.read_json(i)\n",
    "    temp.columns = [i.stem]\n",
    "    merged_df= pd.concat([temp, merged_df], axis=1)"
   ]
  },
  {
   "cell_type": "code",
   "execution_count": 47,
   "id": "33dda90a-628a-4e36-97c3-54bdb4778cbe",
   "metadata": {
    "tags": []
   },
   "outputs": [
    {
     "data": {
      "text/html": [
       "<div>\n",
       "<style scoped>\n",
       "    .dataframe tbody tr th:only-of-type {\n",
       "        vertical-align: middle;\n",
       "    }\n",
       "\n",
       "    .dataframe tbody tr th {\n",
       "        vertical-align: top;\n",
       "    }\n",
       "\n",
       "    .dataframe thead th {\n",
       "        text-align: right;\n",
       "    }\n",
       "</style>\n",
       "<table border=\"1\" class=\"dataframe\">\n",
       "  <thead>\n",
       "    <tr style=\"text-align: right;\">\n",
       "      <th></th>\n",
       "      <th>zh_output</th>\n",
       "      <th>zh_instruction</th>\n",
       "      <th>zh_input</th>\n",
       "    </tr>\n",
       "  </thead>\n",
       "  <tbody>\n",
       "    <tr>\n",
       "      <th>0</th>\n",
       "      <td>1. 均衡饮食,确保包括大量水果和蔬菜。\\n2. 定期锻炼,保持身体的活力和强壮。\\n3. ...</td>\n",
       "      <td>给三个忠告 保持健康。</td>\n",
       "      <td></td>\n",
       "    </tr>\n",
       "    <tr>\n",
       "      <th>1</th>\n",
       "      <td>三种主要颜色是红色、蓝色和黄色。</td>\n",
       "      <td>三种主要颜色是什么?</td>\n",
       "      <td></td>\n",
       "    </tr>\n",
       "    <tr>\n",
       "      <th>2</th>\n",
       "      <td>原子由核组成,核中包含质子和中子,周围环绕着围绕核轨道运行的电子。质子和中子有正电荷,而电子...</td>\n",
       "      <td>描述原子的结构。</td>\n",
       "      <td></td>\n",
       "    </tr>\n",
       "    <tr>\n",
       "      <th>3</th>\n",
       "      <td>There are a number of ways to reduce air pollu...</td>\n",
       "      <td>我们如何减少空气污染?</td>\n",
       "      <td></td>\n",
       "    </tr>\n",
       "    <tr>\n",
       "      <th>4</th>\n",
       "      <td>I had to make a difficult decision when I was ...</td>\n",
       "      <td>描述你不得不作出困难决定的时间。</td>\n",
       "      <td></td>\n",
       "    </tr>\n",
       "    <tr>\n",
       "      <th>...</th>\n",
       "      <td>...</td>\n",
       "      <td>...</td>\n",
       "      <td>...</td>\n",
       "    </tr>\n",
       "    <tr>\n",
       "      <th>51997</th>\n",
       "      <td>Jean Tremaine\\n1234 Main Street, Anytown, CA 9...</td>\n",
       "      <td>生成一个实例, 说明烹饪专业的 履历会想要什么 。</td>\n",
       "      <td></td>\n",
       "    </tr>\n",
       "    <tr>\n",
       "      <th>51998</th>\n",
       "      <td>我吃蛋糕。</td>\n",
       "      <td>将下列项目排列如下,以完成以下句子:</td>\n",
       "      <td>蛋糕,我,吃饭</td>\n",
       "    </tr>\n",
       "    <tr>\n",
       "      <th>51999</th>\n",
       "      <td>Michelle Obama is an inspirational woman who r...</td>\n",
       "      <td>写一段关于名人的介绍性段落。</td>\n",
       "      <td>米歇尔·奥巴马</td>\n",
       "    </tr>\n",
       "    <tr>\n",
       "      <th>52000</th>\n",
       "      <td>1. 研究潜在机会并认真考虑各种备选办法。\\n2. 确保新的职业真正适合。\\n3. 了解职业...</td>\n",
       "      <td>在考虑职业变化时,要提出一份五件事的清单。</td>\n",
       "      <td></td>\n",
       "    </tr>\n",
       "    <tr>\n",
       "      <th>52001</th>\n",
       "      <td>This legal document states that Company A has ...</td>\n",
       "      <td>分析给定的法律文件并解释要点。</td>\n",
       "      <td>The following is an excerpt from a contract be...</td>\n",
       "    </tr>\n",
       "  </tbody>\n",
       "</table>\n",
       "<p>52002 rows × 3 columns</p>\n",
       "</div>"
      ],
      "text/plain": [
       "                                               zh_output  \\\n",
       "0      1. 均衡饮食,确保包括大量水果和蔬菜。\\n2. 定期锻炼,保持身体的活力和强壮。\\n3. ...   \n",
       "1                                       三种主要颜色是红色、蓝色和黄色。   \n",
       "2      原子由核组成,核中包含质子和中子,周围环绕着围绕核轨道运行的电子。质子和中子有正电荷,而电子...   \n",
       "3      There are a number of ways to reduce air pollu...   \n",
       "4      I had to make a difficult decision when I was ...   \n",
       "...                                                  ...   \n",
       "51997  Jean Tremaine\\n1234 Main Street, Anytown, CA 9...   \n",
       "51998                                              我吃蛋糕。   \n",
       "51999  Michelle Obama is an inspirational woman who r...   \n",
       "52000  1. 研究潜在机会并认真考虑各种备选办法。\\n2. 确保新的职业真正适合。\\n3. 了解职业...   \n",
       "52001  This legal document states that Company A has ...   \n",
       "\n",
       "                  zh_instruction  \\\n",
       "0                    给三个忠告 保持健康。   \n",
       "1                     三种主要颜色是什么?   \n",
       "2                       描述原子的结构。   \n",
       "3                    我们如何减少空气污染?   \n",
       "4               描述你不得不作出困难决定的时间。   \n",
       "...                          ...   \n",
       "51997  生成一个实例, 说明烹饪专业的 履历会想要什么 。   \n",
       "51998         将下列项目排列如下,以完成以下句子:   \n",
       "51999             写一段关于名人的介绍性段落。   \n",
       "52000      在考虑职业变化时,要提出一份五件事的清单。   \n",
       "52001            分析给定的法律文件并解释要点。   \n",
       "\n",
       "                                                zh_input  \n",
       "0                                                         \n",
       "1                                                         \n",
       "2                                                         \n",
       "3                                                         \n",
       "4                                                         \n",
       "...                                                  ...  \n",
       "51997                                                     \n",
       "51998                                            蛋糕,我,吃饭  \n",
       "51999                                            米歇尔·奥巴马  \n",
       "52000                                                     \n",
       "52001  The following is an excerpt from a contract be...  \n",
       "\n",
       "[52002 rows x 3 columns]"
      ]
     },
     "execution_count": 47,
     "metadata": {},
     "output_type": "execute_result"
    }
   ],
   "source": [
    "merged_df"
   ]
  },
  {
   "cell_type": "code",
   "execution_count": null,
   "id": "01723024-e371-44a9-ab67-ad345d7cfa41",
   "metadata": {
    "tags": []
   },
   "outputs": [],
   "source": [
    "zh_output = merged_df.pop('zh_output')"
   ]
  },
  {
   "cell_type": "code",
   "execution_count": 56,
   "id": "90e18fca-4c64-49ec-b966-0d8f3ac77ce5",
   "metadata": {
    "tags": []
   },
   "outputs": [],
   "source": [
    "merged_df.insert(2, 'zh_output', zh_output)"
   ]
  },
  {
   "cell_type": "code",
   "execution_count": 57,
   "id": "e47fc7af-7f74-41d6-97a4-a22a4409c236",
   "metadata": {
    "tags": []
   },
   "outputs": [
    {
     "data": {
      "text/html": [
       "<div>\n",
       "<style scoped>\n",
       "    .dataframe tbody tr th:only-of-type {\n",
       "        vertical-align: middle;\n",
       "    }\n",
       "\n",
       "    .dataframe tbody tr th {\n",
       "        vertical-align: top;\n",
       "    }\n",
       "\n",
       "    .dataframe thead th {\n",
       "        text-align: right;\n",
       "    }\n",
       "</style>\n",
       "<table border=\"1\" class=\"dataframe\">\n",
       "  <thead>\n",
       "    <tr style=\"text-align: right;\">\n",
       "      <th></th>\n",
       "      <th>zh_instruction</th>\n",
       "      <th>zh_input</th>\n",
       "      <th>zh_output</th>\n",
       "    </tr>\n",
       "  </thead>\n",
       "  <tbody>\n",
       "    <tr>\n",
       "      <th>0</th>\n",
       "      <td>给三个忠告 保持健康。</td>\n",
       "      <td></td>\n",
       "      <td>1. 均衡饮食,确保包括大量水果和蔬菜。\\n2. 定期锻炼,保持身体的活力和强壮。\\n3. ...</td>\n",
       "    </tr>\n",
       "    <tr>\n",
       "      <th>1</th>\n",
       "      <td>三种主要颜色是什么?</td>\n",
       "      <td></td>\n",
       "      <td>三种主要颜色是红色、蓝色和黄色。</td>\n",
       "    </tr>\n",
       "    <tr>\n",
       "      <th>2</th>\n",
       "      <td>描述原子的结构。</td>\n",
       "      <td></td>\n",
       "      <td>原子由核组成,核中包含质子和中子,周围环绕着围绕核轨道运行的电子。质子和中子有正电荷,而电子...</td>\n",
       "    </tr>\n",
       "    <tr>\n",
       "      <th>3</th>\n",
       "      <td>我们如何减少空气污染?</td>\n",
       "      <td></td>\n",
       "      <td>There are a number of ways to reduce air pollu...</td>\n",
       "    </tr>\n",
       "    <tr>\n",
       "      <th>4</th>\n",
       "      <td>描述你不得不作出困难决定的时间。</td>\n",
       "      <td></td>\n",
       "      <td>I had to make a difficult decision when I was ...</td>\n",
       "    </tr>\n",
       "    <tr>\n",
       "      <th>...</th>\n",
       "      <td>...</td>\n",
       "      <td>...</td>\n",
       "      <td>...</td>\n",
       "    </tr>\n",
       "    <tr>\n",
       "      <th>51997</th>\n",
       "      <td>生成一个实例, 说明烹饪专业的 履历会想要什么 。</td>\n",
       "      <td></td>\n",
       "      <td>Jean Tremaine\\n1234 Main Street, Anytown, CA 9...</td>\n",
       "    </tr>\n",
       "    <tr>\n",
       "      <th>51998</th>\n",
       "      <td>将下列项目排列如下,以完成以下句子:</td>\n",
       "      <td>蛋糕,我,吃饭</td>\n",
       "      <td>我吃蛋糕。</td>\n",
       "    </tr>\n",
       "    <tr>\n",
       "      <th>51999</th>\n",
       "      <td>写一段关于名人的介绍性段落。</td>\n",
       "      <td>米歇尔·奥巴马</td>\n",
       "      <td>Michelle Obama is an inspirational woman who r...</td>\n",
       "    </tr>\n",
       "    <tr>\n",
       "      <th>52000</th>\n",
       "      <td>在考虑职业变化时,要提出一份五件事的清单。</td>\n",
       "      <td></td>\n",
       "      <td>1. 研究潜在机会并认真考虑各种备选办法。\\n2. 确保新的职业真正适合。\\n3. 了解职业...</td>\n",
       "    </tr>\n",
       "    <tr>\n",
       "      <th>52001</th>\n",
       "      <td>分析给定的法律文件并解释要点。</td>\n",
       "      <td>The following is an excerpt from a contract be...</td>\n",
       "      <td>This legal document states that Company A has ...</td>\n",
       "    </tr>\n",
       "  </tbody>\n",
       "</table>\n",
       "<p>52002 rows × 3 columns</p>\n",
       "</div>"
      ],
      "text/plain": [
       "                  zh_instruction  \\\n",
       "0                    给三个忠告 保持健康。   \n",
       "1                     三种主要颜色是什么?   \n",
       "2                       描述原子的结构。   \n",
       "3                    我们如何减少空气污染?   \n",
       "4               描述你不得不作出困难决定的时间。   \n",
       "...                          ...   \n",
       "51997  生成一个实例, 说明烹饪专业的 履历会想要什么 。   \n",
       "51998         将下列项目排列如下,以完成以下句子:   \n",
       "51999             写一段关于名人的介绍性段落。   \n",
       "52000      在考虑职业变化时,要提出一份五件事的清单。   \n",
       "52001            分析给定的法律文件并解释要点。   \n",
       "\n",
       "                                                zh_input  \\\n",
       "0                                                          \n",
       "1                                                          \n",
       "2                                                          \n",
       "3                                                          \n",
       "4                                                          \n",
       "...                                                  ...   \n",
       "51997                                                      \n",
       "51998                                            蛋糕,我,吃饭   \n",
       "51999                                            米歇尔·奥巴马   \n",
       "52000                                                      \n",
       "52001  The following is an excerpt from a contract be...   \n",
       "\n",
       "                                               zh_output  \n",
       "0      1. 均衡饮食,确保包括大量水果和蔬菜。\\n2. 定期锻炼,保持身体的活力和强壮。\\n3. ...  \n",
       "1                                       三种主要颜色是红色、蓝色和黄色。  \n",
       "2      原子由核组成,核中包含质子和中子,周围环绕着围绕核轨道运行的电子。质子和中子有正电荷,而电子...  \n",
       "3      There are a number of ways to reduce air pollu...  \n",
       "4      I had to make a difficult decision when I was ...  \n",
       "...                                                  ...  \n",
       "51997  Jean Tremaine\\n1234 Main Street, Anytown, CA 9...  \n",
       "51998                                              我吃蛋糕。  \n",
       "51999  Michelle Obama is an inspirational woman who r...  \n",
       "52000  1. 研究潜在机会并认真考虑各种备选办法。\\n2. 确保新的职业真正适合。\\n3. 了解职业...  \n",
       "52001  This legal document states that Company A has ...  \n",
       "\n",
       "[52002 rows x 3 columns]"
      ]
     },
     "execution_count": 57,
     "metadata": {},
     "output_type": "execute_result"
    }
   ],
   "source": [
    "merged_df"
   ]
  },
  {
   "cell_type": "code",
   "execution_count": 67,
   "id": "2ad17f31-5119-4ca2-8efa-028c57aac284",
   "metadata": {
    "tags": []
   },
   "outputs": [
    {
     "data": {
      "text/html": [
       "<div>\n",
       "<style scoped>\n",
       "    .dataframe tbody tr th:only-of-type {\n",
       "        vertical-align: middle;\n",
       "    }\n",
       "\n",
       "    .dataframe tbody tr th {\n",
       "        vertical-align: top;\n",
       "    }\n",
       "\n",
       "    .dataframe thead th {\n",
       "        text-align: right;\n",
       "    }\n",
       "</style>\n",
       "<table border=\"1\" class=\"dataframe\">\n",
       "  <thead>\n",
       "    <tr style=\"text-align: right;\">\n",
       "      <th></th>\n",
       "      <th>zh_instruction</th>\n",
       "      <th>zh_input</th>\n",
       "      <th>zh_output</th>\n",
       "    </tr>\n",
       "  </thead>\n",
       "  <tbody>\n",
       "    <tr>\n",
       "      <th>32221</th>\n",
       "      <td>概述了一篇关于气候变化的文章。</td>\n",
       "      <td>Climate change is a growing global phenomenon ...</td>\n",
       "      <td>气候变化已经是一个全球性问题,已经造成了伤害,预计会随着时间推移而恶化。 它正在造成更极端的...</td>\n",
       "    </tr>\n",
       "    <tr>\n",
       "      <th>34852</th>\n",
       "      <td>产生一个10个字句,用“草莓”一词。</td>\n",
       "      <td></td>\n",
       "      <td>甜甜而酸的草莓 充满了空气中的芳香味</td>\n",
       "    </tr>\n",
       "    <tr>\n",
       "      <th>23800</th>\n",
       "      <td>建议采取一些战略,帮助运动员制定适当的目标。</td>\n",
       "      <td></td>\n",
       "      <td>1. Set goals that are both challenging and ach...</td>\n",
       "    </tr>\n",
       "    <tr>\n",
       "      <th>22826</th>\n",
       "      <td>列出3种优势,即使用GPT模型生成文本。</td>\n",
       "      <td></td>\n",
       "      <td>The advantages of using a GPT model for text g...</td>\n",
       "    </tr>\n",
       "    <tr>\n",
       "      <th>22636</th>\n",
       "      <td>以黑体标明代名词的前奏 。</td>\n",
       "      <td>保罗和利兹去散步了 他们喜欢看风景</td>\n",
       "      <td>保罗和丽兹 - \"他们\"的前身</td>\n",
       "    </tr>\n",
       "  </tbody>\n",
       "</table>\n",
       "</div>"
      ],
      "text/plain": [
       "               zh_instruction  \\\n",
       "32221         概述了一篇关于气候变化的文章。   \n",
       "34852      产生一个10个字句,用“草莓”一词。   \n",
       "23800  建议采取一些战略,帮助运动员制定适当的目标。   \n",
       "22826    列出3种优势,即使用GPT模型生成文本。   \n",
       "22636           以黑体标明代名词的前奏 。   \n",
       "\n",
       "                                                zh_input  \\\n",
       "32221  Climate change is a growing global phenomenon ...   \n",
       "34852                                                      \n",
       "23800                                                      \n",
       "22826                                                      \n",
       "22636                                  保罗和利兹去散步了 他们喜欢看风景   \n",
       "\n",
       "                                               zh_output  \n",
       "32221  气候变化已经是一个全球性问题,已经造成了伤害,预计会随着时间推移而恶化。 它正在造成更极端的...  \n",
       "34852                                 甜甜而酸的草莓 充满了空气中的芳香味  \n",
       "23800  1. Set goals that are both challenging and ach...  \n",
       "22826  The advantages of using a GPT model for text g...  \n",
       "22636                                    保罗和丽兹 - \"他们\"的前身  "
      ]
     },
     "execution_count": 67,
     "metadata": {},
     "output_type": "execute_result"
    }
   ],
   "source": [
    "merged_df.sample(5)"
   ]
  },
  {
   "cell_type": "code",
   "execution_count": 76,
   "id": "6bd52877-337d-4eb4-baa9-4773c3ebceae",
   "metadata": {
    "tags": []
   },
   "outputs": [],
   "source": [
    "merged_df.columns = ['instruction', 'input', 'output']"
   ]
  },
  {
   "cell_type": "code",
   "execution_count": 79,
   "id": "35d065f1-11e5-4c7d-8843-9cb28ced9d63",
   "metadata": {
    "tags": []
   },
   "outputs": [
    {
     "data": {
      "text/html": [
       "<div>\n",
       "<style scoped>\n",
       "    .dataframe tbody tr th:only-of-type {\n",
       "        vertical-align: middle;\n",
       "    }\n",
       "\n",
       "    .dataframe tbody tr th {\n",
       "        vertical-align: top;\n",
       "    }\n",
       "\n",
       "    .dataframe thead th {\n",
       "        text-align: right;\n",
       "    }\n",
       "</style>\n",
       "<table border=\"1\" class=\"dataframe\">\n",
       "  <thead>\n",
       "    <tr style=\"text-align: right;\">\n",
       "      <th></th>\n",
       "      <th>instruction</th>\n",
       "      <th>input</th>\n",
       "      <th>output</th>\n",
       "    </tr>\n",
       "  </thead>\n",
       "  <tbody>\n",
       "    <tr>\n",
       "      <th>0</th>\n",
       "      <td>给三个忠告 保持健康。</td>\n",
       "      <td></td>\n",
       "      <td>1. 均衡饮食,确保包括大量水果和蔬菜。\\n2. 定期锻炼,保持身体的活力和强壮。\\n3. ...</td>\n",
       "    </tr>\n",
       "    <tr>\n",
       "      <th>1</th>\n",
       "      <td>三种主要颜色是什么?</td>\n",
       "      <td></td>\n",
       "      <td>三种主要颜色是红色、蓝色和黄色。</td>\n",
       "    </tr>\n",
       "    <tr>\n",
       "      <th>2</th>\n",
       "      <td>描述原子的结构。</td>\n",
       "      <td></td>\n",
       "      <td>原子由核组成,核中包含质子和中子,周围环绕着围绕核轨道运行的电子。质子和中子有正电荷,而电子...</td>\n",
       "    </tr>\n",
       "    <tr>\n",
       "      <th>3</th>\n",
       "      <td>我们如何减少空气污染?</td>\n",
       "      <td></td>\n",
       "      <td>There are a number of ways to reduce air pollu...</td>\n",
       "    </tr>\n",
       "    <tr>\n",
       "      <th>4</th>\n",
       "      <td>描述你不得不作出困难决定的时间。</td>\n",
       "      <td></td>\n",
       "      <td>I had to make a difficult decision when I was ...</td>\n",
       "    </tr>\n",
       "  </tbody>\n",
       "</table>\n",
       "</div>"
      ],
      "text/plain": [
       "        instruction input                                             output\n",
       "0       给三个忠告 保持健康。        1. 均衡饮食,确保包括大量水果和蔬菜。\\n2. 定期锻炼,保持身体的活力和强壮。\\n3. ...\n",
       "1        三种主要颜色是什么?                                         三种主要颜色是红色、蓝色和黄色。\n",
       "2          描述原子的结构。        原子由核组成,核中包含质子和中子,周围环绕着围绕核轨道运行的电子。质子和中子有正电荷,而电子...\n",
       "3       我们如何减少空气污染?        There are a number of ways to reduce air pollu...\n",
       "4  描述你不得不作出困难决定的时间。        I had to make a difficult decision when I was ..."
      ]
     },
     "execution_count": 79,
     "metadata": {},
     "output_type": "execute_result"
    }
   ],
   "source": [
    "merged_df.head(5)"
   ]
  },
  {
   "cell_type": "code",
   "execution_count": 78,
   "id": "8769afdf-a09d-40ec-8862-1baffd59f0b3",
   "metadata": {
    "tags": []
   },
   "outputs": [],
   "source": [
    "merged_df.to_json('./temp/zh_alpaca_from_translate.json', orient='records', force_ascii=False)"
   ]
  },
  {
   "cell_type": "markdown",
   "id": "ff979dac-fc68-4baa-bf0d-6b699f630e5e",
   "metadata": {},
   "source": [
    "# Merge Other files(e.g. from call openai)"
   ]
  },
  {
   "cell_type": "code",
   "execution_count": null,
   "id": "257a1f10-046a-4fda-906f-072a3fa7c4e9",
   "metadata": {},
   "outputs": [],
   "source": []
  }
 ],
 "metadata": {
  "kernelspec": {
   "display_name": "Python 3 (ipykernel)",
   "language": "python",
   "name": "python3"
  },
  "language_info": {
   "codemirror_mode": {
    "name": "ipython",
    "version": 3
   },
   "file_extension": ".py",
   "mimetype": "text/x-python",
   "name": "python",
   "nbconvert_exporter": "python",
   "pygments_lexer": "ipython3",
   "version": "3.7.13"
  }
 },
 "nbformat": 4,
 "nbformat_minor": 5
}
